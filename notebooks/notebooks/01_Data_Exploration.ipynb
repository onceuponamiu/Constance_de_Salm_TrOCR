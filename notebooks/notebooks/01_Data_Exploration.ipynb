{
  "cells": [
    {
      "cell_type": "markdown",
      "metadata": {},
      "source": [
        "# Data Exploration for TrOCR Training\n",
        "\n",
        "This notebook explores the Constance de Salm correspondence dataset and prepares it for TrOCR fine-tuning.\n",
        "\n",
        "## Contents\n",
        "1. Dataset Overview\n",
        "2. Image Analysis\n",
        "3. Text Analysis\n",
        "4. Data Quality Assessment\n",
        "5. Training/Validation/Test Split\n",
        "6. Data Preprocessing\n"
      ]
    },
    {
      "cell_type": "code",
      "execution_count": null,
      "metadata": {},
      "outputs": [],
      "source": [
        "# Import libraries\n",
        "import sys\n",
        "import os\n",
        "from pathlib import Path\n",
        "import matplotlib.pyplot as plt\n",
        "import seaborn as sns\n",
        "import pandas as pd\n",
        "import numpy as np\n",
        "from PIL import Image\n",
        "import cv2\n",
        "from collections import Counter\n",
        "import re\n",
        "import warnings\n",
        "warnings.filterwarnings('ignore')\n",
        "\n",
        "# Add src to path\n",
        "sys.path.append('../src')\n",
        "\n",
        "from src.data_loader import CdSDataLoader\n",
        "from src.utils import load_config\n",
        "from src.evaluator import HTREvaluator\n",
        "\n",
        "# Set style\n",
        "plt.style.use('default')\n",
        "sns.set_palette(\"husl\")\n",
        "\n",
        "print(\"Libraries imported successfully!\")\n"
      ]
    }
  ],
  "metadata": {
    "language_info": {
      "name": "python"
    }
  },
  "nbformat": 4,
  "nbformat_minor": 2
}
